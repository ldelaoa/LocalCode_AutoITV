{
 "cells": [
  {
   "cell_type": "code",
   "execution_count": 34,
   "id": "a2331206",
   "metadata": {},
   "outputs": [],
   "source": [
    "import os\n",
    "import torch\n",
    "import matplotlib.pyplot as plt\n",
    "import tempfile\n",
    "import shutil\n",
    "import os\n",
    "import random\n",
    "import glob\n",
    "import numpy as np\n",
    "from scipy.ndimage import rotate\n",
    "import csv\n",
    "import SimpleITK as sitk\n",
    "#from lungtumormask import mask as tumormask\n",
    "#from lungmask import mask as lungmask_fun\n",
    "\n",
    "from monai.utils import first, set_determinism\n",
    "from monai.transforms import (\n",
    "    RandFlipd,\n",
    "    AsDiscreted,\n",
    "    EnsureChannelFirstd,\n",
    "    Compose,\n",
    "    CropForegroundd,\n",
    "    LoadImaged,\n",
    "    Orientationd,\n",
    "    KeepLargestConnectedComponent,\n",
    "    RandCropByPosNegLabeld,\n",
    "    SaveImaged,\n",
    "    CenterSpatialCropd,\n",
    "    SpatialCropd,\n",
    "    ScaleIntensityRanged,\n",
    "    Spacingd,\n",
    "    AsDiscrete,\n",
    "    SpatialCrop,\n",
    "    RandSpatialCropd,\n",
    "    SpatialPadd,\n",
    "    EnsureTyped,\n",
    "    EnsureType,\n",
    "    Invertd,\n",
    "    DivisiblePadd,\n",
    "    MapTransform,\n",
    "    HistogramNormalized,\n",
    "    ToTensord,\n",
    "    Transpose,\n",
    "    ToTensor,\n",
    ")\n",
    "from monai.optimizers import LearningRateFinder\n",
    "from monai.handlers.utils import from_engine\n",
    "from monai.networks.nets import UNet,VNet,SwinUNETR,UNETR,DynUNet\n",
    "from monai.networks.layers import Norm\n",
    "from monai.metrics import DiceMetric,SurfaceDiceMetric,SurfaceDistanceMetric,HausdorffDistanceMetric\n",
    "from monai.losses import DiceLoss,DiceCELoss,MaskedDiceLoss,DiceFocalLoss\n",
    "from monai.inferers import sliding_window_inference\n",
    "from monai.data import CacheDataset, DataLoader, Dataset, decollate_batch,pad_list_data_collate\n",
    "import wandb"
   ]
  },
  {
   "cell_type": "code",
   "execution_count": null,
   "id": "2a7aa3c5",
   "metadata": {},
   "outputs": [],
   "source": []
  },
  {
   "cell_type": "code",
   "execution_count": 35,
   "id": "6dd095e2",
   "metadata": {},
   "outputs": [],
   "source": [
    "def LookSortFiles(root_path,all_patientdir):\n",
    "    CT_fpaths = []\n",
    "    lbl_fpaths= []\n",
    "    lung_fpaths = []\n",
    "    for patient_path in all_patientdir:\n",
    "        ct_miss = True\n",
    "        gtv_miss = True\n",
    "        lung_miss = True\n",
    "        for root, dirs, files in os.walk(root_path+patient_path, topdown=False):\n",
    "            for f in files:\n",
    "                if True:#NBIA database\n",
    "                    if \"_ct.nii.gz\" in f.lower() and ct_miss:\n",
    "                        CT_fpaths.append(os.path.join(root_path,patient_path,f))\n",
    "                        ct_miss = False\n",
    "                    if \"gtv-1.nii.gz\" in f.lower():\n",
    "                        lbl_fpaths.append(os.path.join(root_path,patient_path,f))\n",
    "                        gtv_miss =False\n",
    "                    if '_lungmask.nii.gz' in f.lower():\n",
    "                        lung_fpaths.append(os.path.join(root_path,patient_path,f))\n",
    "                        lung_miss = False\n",
    "\n",
    "                if \"50%_ct.nii.gz\" in f.lower() and ct_miss:\n",
    "                    CT_fpaths.append(os.path.join(root_path,patient_path,f))\n",
    "                    ct_miss = False\n",
    "                if \"rtstruct_gtv.nii.gz\" in f.lower():\n",
    "                    lbl_fpaths.append(os.path.join(root_path,patient_path,f))\n",
    "                    gtv_miss =False\n",
    "                if '50%_lungmask.nii.gz' in f.lower():\n",
    "                    lung_fpaths.append(os.path.join(root_path,patient_path,f))\n",
    "                    lung_miss = False\n",
    "            if ct_miss:\n",
    "                for f in files:\n",
    "                    if \"ex_ct.nii.gz\" in f.lower() and ct_miss:\n",
    "                        CT_fpaths.append(os.path.join(root_path,patient_path,f))\n",
    "                        ct_miss = False\n",
    "                    if 'ex_lungmask.nii.gz' in f.lower() and lung_miss:\n",
    "                            lung_fpaths.append(os.path.join(root_path,patient_path,f))\n",
    "                            lung_miss = False\n",
    "            if gtv_miss and not(ct_miss):\n",
    "                CT_fpaths.pop()\n",
    "            if gtv_miss and not(lung_miss):\n",
    "                lung_fpaths.pop()\n",
    "            if not(gtv_miss) and (ct_miss):\n",
    "                print(root)\n",
    "                for f in files:\n",
    "                    if \"mar_ct.nii.gz\" in f.lower() and ct_miss:\n",
    "                        CT_fpaths.append(os.path.join(root_path,patient_path,f))\n",
    "                        ct_miss = False\n",
    "                    if \"in_ct.nii.gz\" in f.lower() and ct_miss:\n",
    "                        CT_fpaths.append(os.path.join(root_path,patient_path,f))\n",
    "                        ct_miss = False\n",
    "                    if 'mar_lungmask.nii.gz' in f.lower() and lung_miss:\n",
    "                        lung_fpaths.append(os.path.join(root_path,patient_path,f))\n",
    "                        lung_miss = False\n",
    "                    if 'in_lungmask.nii.gz' in f.lower() and lung_miss:\n",
    "                        lung_fpaths.append(os.path.join(root_path,patient_path,f))\n",
    "                        lung_miss = False\n",
    "\n",
    "\n",
    "    print(len(CT_fpaths),len(lbl_fpaths),len(lung_fpaths))\n",
    "    CT_fpaths.sort()\n",
    "    lbl_fpaths.sort()\n",
    "    lung_fpaths.sort()\n",
    "\n",
    "    print(CT_fpaths[44])\n",
    "    print(lbl_fpaths[44])\n",
    "    print(lung_fpaths[44])\n",
    "    \n",
    "    return CT_fpaths,lbl_fpaths,lung_fpaths"
   ]
  },
  {
   "cell_type": "code",
   "execution_count": 36,
   "id": "fa5cd60c",
   "metadata": {},
   "outputs": [],
   "source": [
    "#class to transpose lung mask\n",
    "class Create_sequences(MapTransform):\n",
    "    def __init__(self, keys):\n",
    "        super().__init__(keys)        \n",
    "        print(f\"keys to transpose: {self.keys}\")\n",
    "     \n",
    "    def __call__(self, dictionary):\n",
    "        dictionary = dict(dictionary)\n",
    "        for key in self.keys:\n",
    "            data = dictionary[key]\n",
    "            if key == 'lung':\n",
    "                data = np.transpose(data, (0,2,3,1))\n",
    "                data = rotate(data,270,axes=(1,2),reshape=False)\n",
    "                data = np.flip(data,1)\n",
    "                data[data==2] = int(1)\n",
    "                data[data!=1] = int(0)\n",
    "            dictionary[key] = data\n",
    "            \n",
    "        return dictionary        "
   ]
  },
  {
   "cell_type": "code",
   "execution_count": 37,
   "id": "9640b63a",
   "metadata": {},
   "outputs": [],
   "source": [
    "\n",
    "#Check the images after the preprocessing\n",
    "if False:\n",
    "    check_ds =CacheDataset(data=train_files, transform=train_transforms,cache_rate=1.0,num_workers=num_workers)\n",
    "    check_loader = DataLoader(check_ds, batch_size=1,num_workers=num_workers)\n",
    "    \n",
    "if False: #Normal dataset not Cache\n",
    "    check_ds =Dataset(data=train_files, transform=train_transforms)\n",
    "    check_loader = DataLoader(check_ds, batch_size=1,num_workers=0)\n",
    "    if True:\n",
    "        count = 1\n",
    "        for batch_data in check_loader:\n",
    "            #batch_data = first(check_loader)\n",
    "            image,lung, label = (batch_data[\"image\"][0][0],batch_data[\"lung\"][0][0],batch_data[\"label\"][0][0])\n",
    "            print(f\"px info:{count },image shape: {image.shape},lung shape: {lung.shape}, label shape: {label.shape}\")\n",
    "            count+=1\n",
    "            for i in range(label.shape[2]):\n",
    "                if torch.sum(label[:,:,i])>0:\n",
    "                    plt.subplot(2,3,1),plt.imshow(image[:,:,i]),plt.axis('off')\n",
    "                    plt.subplot(2,3,2),plt.imshow(label[:,:,i]),plt.axis('off')\n",
    "                    plt.subplot(2,3,3),plt.imshow(label[:,:,i]+image[:,:,i]),plt.axis('off')\n",
    "                    plt.subplot(2,3,4),plt.imshow(image[:,:,i+2]),plt.axis('off')\n",
    "                    plt.subplot(2,3,5),plt.imshow(label[:,:,i+2]),plt.axis('off')\n",
    "                    plt.subplot(2,3,6),plt.imshow(label[:,:,i+2]+image[:,:,i]),plt.axis('off')\n",
    "                    plt.tight_layout(),plt.show()\n",
    "                    break\n",
    "            if count>10:\n",
    "                break"
   ]
  },
  {
   "cell_type": "code",
   "execution_count": 38,
   "id": "ed9f6095",
   "metadata": {},
   "outputs": [],
   "source": [
    "#params\n",
    "def Loss_functionsSelector(loss_fold):\n",
    "    if loss_fold==0:\n",
    "        SelectedLoss = DiceLoss(include_background=False,to_onehot_y=True, sigmoid=True)\n",
    "    if loss_fold==1:        \n",
    "        SelectedLoss = MaskedDiceLoss(include_background=False,to_onehot_y=True, sigmoid=True)\n",
    "    if loss_fold==2:\n",
    "        SelectedLoss = DiceCELoss(include_background=False,to_onehot_y=True, sigmoid=True)\n",
    "    if loss_fold==3:\n",
    "        SelectedLoss = DiceFocalLoss(include_background=False,to_onehot_y=True, sigmoid=True)\n",
    "    return SelectedLoss"
   ]
  },
  {
   "cell_type": "code",
   "execution_count": 39,
   "id": "0fb96148",
   "metadata": {},
   "outputs": [],
   "source": [
    "def train(lf_select,optimizer,model,root_path,epoch, train_loader, val_loader, scheduler, best_metric, best_metric_epoch,device):\n",
    "    train_num_iterations = len(train_loader)    \n",
    "    epoch_loss = 0\n",
    "    step = 0\n",
    "    epoch_loss_values = []\n",
    "    metric_values = []\n",
    "    nr_images = 8\n",
    "    val_interval = 2\n",
    "    \n",
    "    model.train()\n",
    "    \n",
    "    for batch_data in train_loader:\n",
    "        step += 1\n",
    "        inputs,labels = (\n",
    "            batch_data[\"image\"].to(device),\n",
    "            batch_data[\"label\"].to(device),\n",
    "        )\n",
    "        optimizer.zero_grad()\n",
    "        outputs = model(inputs)\n",
    "        loss_function=Loss_functionsSelector(lf_select)\n",
    "        loss = loss_function(outputs, labels)\n",
    "        loss.backward()\n",
    "        optimizer.step()\n",
    "        epoch_loss += loss.item()\n",
    "        scheduler.step(epoch + (step / train_num_iterations))\n",
    "        \n",
    "        if False:\n",
    "            print(f\"{step}/{len(train_ds) // train_loader.batch_size},\"f\"train_loss: {loss.item():.4f}\")\n",
    "        \n",
    "        \n",
    "        wandb.log({\"train/loss\": loss.item()})\n",
    "    \n",
    "    epoch_loss /= step\n",
    "    epoch_loss_values.append(epoch_loss)\n",
    "    print(f\"epoch {epoch + 1} average loss: {epoch_loss:.4f}\")\n",
    "    \n",
    "    wandb.log({\"train/loss_epoch\": epoch_loss})\n",
    "    wandb.log({\"learning_rate\": scheduler.get_lr()[0]})\n",
    "    \n",
    "\n",
    "    if (epoch + 1) % val_interval == 0:\n",
    "        model.eval()\n",
    "        with torch.no_grad():\n",
    "            for val_data in val_loader:\n",
    "                val_inputs, val_labels = (\n",
    "                    val_data[\"image\"].to(device),\n",
    "                    val_data[\"label\"].to(device),)\n",
    "                roi_size = image_size\n",
    "                sw_batch_size = 1\n",
    "                val_outputs = sliding_window_inference(val_inputs, roi_size, sw_batch_size, model)\n",
    "                val_outputs = [post_pred(i) for i in decollate_batch(val_outputs)]\n",
    "                val_labels = [post_label(i) for i in decollate_batch(val_labels)]\n",
    "\n",
    "                #postImg_monai = [post_transforms(i) for i in decollate_batch(val_outputs)]\n",
    "\n",
    "                #compute metric for current iteration\n",
    "                dice_metric(y_pred=val_outputs, y=val_labels)\n",
    "                #dice_metric(y_pred=postImg_monai[0][1:2,:,:,:], y=val_labels[0])\n",
    "\n",
    "\n",
    "            metric = dice_metric.aggregate().item()\n",
    "            metric_values.append(metric)\n",
    "            wandb.log({\"val/dice_metric\": metric})            \n",
    "            dice_metric.reset()\n",
    "\n",
    "\n",
    "            if metric > best_metric:\n",
    "                best_metric = metric\n",
    "                best_metric_epoch = epoch + 1\n",
    "                torch.save(model.state_dict(), os.path.join(\n",
    "                    root_path, \"best_MONAI_V8_NBIA_Loss0.pth\"))\n",
    "                print(\"saved new best metric model\")\n",
    "            else:\n",
    "                print(\"Model not saved\")\n",
    "            print(\n",
    "                f\"current epoch: {epoch + 1} current mean dice: {metric:.4f}\"\n",
    "                f\"\\nbest mean dice: {best_metric:.4f} \"\n",
    "                f\"at epoch: {best_metric_epoch}\")\n",
    "            \n",
    "            \n",
    "    return epoch, best_metric, best_metric_epoch"
   ]
  },
  {
   "cell_type": "code",
   "execution_count": null,
   "id": "5240e301",
   "metadata": {},
   "outputs": [],
   "source": []
  },
  {
   "cell_type": "code",
   "execution_count": 40,
   "id": "98b93981",
   "metadata": {},
   "outputs": [],
   "source": [
    "def main():    \n",
    "    #peregrine\n",
    "    #root_path = '/data/p308104/NBIA_Data/NIFTI_NBIA/imagesTr/'\n",
    "    #root_path = '/data/p308104/Nifti_Imgs_V0/' #UMCG data on peregrine\n",
    "    #root_path = '/data/p308104/MultipleBP/'\n",
    "    #local\n",
    "    root_path = '/home/umcg/Desktop/NBIA/NBIA_Nifti_v0/'\n",
    "    #root_path = '/home/umcg/Desktop/Dicom_UMCG/MultipleBP/' \n",
    "    #root_path = '/home/umcg/OneDrive/MultipleBreathingP/'\n",
    "    #root_path = '/home/umcg/Desktop/AutomaticITV_code/MultipleBreathingP-OneDriveCopy/MultipleBreathingP/'\n",
    "    all_patientdir = []\n",
    "    all_patientdir = os.listdir(root_path)\n",
    "    all_patientdir.sort()\n",
    "    print(len(all_patientdir))\n",
    "\n",
    "    CT_fpaths,lbl_fpaths,lung_fpaths = LookSortFiles(root_path,all_patientdir)\n",
    "    \n",
    "    #Create data dictionat\n",
    "    data_dicts = [\n",
    "        {\"image\": image_name,\"lung\":lung_name,\"label\": label_name}\n",
    "        for image_name,lung_name,label_name in zip(CT_fpaths,lung_fpaths,lbl_fpaths)\n",
    "    ]\n",
    "    train_files, val_files = data_dicts[:-290], data_dicts[-5:]\n",
    "    print('train val len:',len(train_files),'-',len(val_files))\n",
    "\n",
    "    minmin_CT = -1024 #NBIA\n",
    "    maxmax_CT = 3071 #NBIA\n",
    "\n",
    "    #Create Compose functions for preprocessing of train and validation\n",
    "    set_determinism(seed=0)\n",
    "    image_keys = [\"image\",\"lung\",\"label\"]\n",
    "    p = .5 #Data aug transform probability\n",
    "    size = 64#96\n",
    "    image_size = (size,size,size)\n",
    "    pin_memory = True if num_workers > 0 else False  # Do not change \n",
    "    lf_select =0 #Change for diff loss functions\n",
    "\n",
    "    train_transforms = Compose(\n",
    "        [\n",
    "            LoadImaged(keys=image_keys),\n",
    "            EnsureChannelFirstd(keys=image_keys),\n",
    "            Orientationd(keys=[\"image\",\"label\"], axcodes=\"RAS\"),\n",
    "            #Spacingd(keys=[\"image\",\"label\"], pixdim=(1,1,1),mode=(\"bilinear\",\"nearest\")),\n",
    "            ScaleIntensityRanged(keys=[\"image\"], a_min=minmin_CT, a_max=maxmax_CT,b_min=0.0, b_max=1.0, clip=True,),\n",
    "            Create_sequences(keys=image_keys),\n",
    "            CropForegroundd(keys=image_keys, source_key=\"lung\",k_divisible = size),\n",
    "            RandCropByPosNegLabeld(\n",
    "                keys=image_keys,label_key='label',spatial_size=image_size,pos=1,neg=1,num_samples=2,\n",
    "                image_key='image',image_threshold=0,),\n",
    "            ToTensord(keys=image_keys),\n",
    "        ]\n",
    "    )\n",
    "\n",
    "    val_transforms = Compose(\n",
    "        [\n",
    "            LoadImaged(keys=image_keys),\n",
    "            EnsureChannelFirstd(keys=image_keys),\n",
    "            Orientationd(keys=[\"image\",\"label\"], axcodes=\"RAS\"),\n",
    "            #Spacingd(keys=[\"image\",\"label\"], pixdim=(1,1,1),mode=(\"bilinear\",\"nearest\")),\n",
    "            ScaleIntensityRanged(keys=[\"image\"], a_min=minmin_CT, a_max=maxmax_CT,b_min=0.0, b_max=1.0, clip=True,),\n",
    "            Create_sequences(keys=image_keys),\n",
    "            CropForegroundd(keys=image_keys, source_key=\"lung\",k_divisible = size),\n",
    "            ToTensord(keys=image_keys),\n",
    "        ]\n",
    "    )\n",
    "    \n",
    "    #Check the images after the preprocessing\n",
    "    if False:#Cache\n",
    "        train_ds = CacheDataset(data=train_files, transform=train_transforms,cache_rate=1.0,num_workers=num_workers)\n",
    "        train_loader = DataLoader(train_ds, batch_size=2, shuffle=True, num_workers=num_workers)\n",
    "        val_ds = CacheDataset(data=val_files, transform=val_transforms,cache_rate=1.0,num_workers=int(num_workers//2))\n",
    "        val_loader = DataLoader(val_ds, batch_size=1, num_workers=int(num_workers//2),pin_memory=pin_memory)\n",
    "    if True:#NO Cache\n",
    "        train_ds = Dataset(data=train_files, transform=train_transforms)\n",
    "        train_loader = DataLoader(train_ds, batch_size=2, shuffle=True, num_workers=0)\n",
    "        val_ds = Dataset(data=val_files, transform=val_transforms)\n",
    "        val_loader = DataLoader(val_ds, batch_size=1, num_workers=0)#,collate_fn=pad_list_data_collate)\n",
    "\n",
    "        \n",
    "    #Create the model\n",
    "    spatial_dims = 3\n",
    "    max_epochs = 100\n",
    "    in_channels = 1\n",
    "    out_channels=2 #including background\n",
    "    lr = 1e-4\n",
    "    weight_decay = 1e-5\n",
    "    T_0 = 40  # Cosine scheduler\n",
    "\n",
    "    model = SwinUNETR(\n",
    "        image_size, \n",
    "        in_channels, out_channels, \n",
    "        use_checkpoint=True, \n",
    "        feature_size=24,\n",
    "        #spatial_dims=spatial_dims\n",
    "    ).to(device)\n",
    "    \n",
    "    # Load pretrained model\n",
    "    pretrained_path = None\n",
    "    if pretrained_path is not(None):\n",
    "        model.load_state_dict(torch.load(pretrained_path, map_location=torch.device(device)))\n",
    "        print('Using pretrained weights!')\n",
    "        \n",
    "    #optimizer\n",
    "    optimizer = torch.optim.Adam(model.parameters(),lr=lr,weight_decay=weight_decay)\n",
    "    #learning rate scheduler\n",
    "    scheduler = torch.optim.lr_scheduler.CosineAnnealingWarmRestarts(optimizer=optimizer, T_0=T_0,T_mult=1, eta_min=1e-8)\n",
    "    #metrics\n",
    "    dice_metric = DiceMetric(include_background=False, reduction=\"mean\",get_not_nans=False)\n",
    "    \n",
    "    \n",
    "    post_pred = Compose([EnsureType(), AsDiscrete(argmax=True,threshold=0.1)])\n",
    "    post_label = Compose([EnsureType(), AsDiscrete(threshold=0.5)],)\n",
    "    \n",
    "    wandb.init(project=\"NBIA_V0\", entity=\"ldelaoa\")\n",
    "    wandb.config = {\n",
    "      \"learning_rate\": lr,\n",
    "      \"epochs\": max_epochs,\n",
    "      \"batch_size\": 2,\n",
    "      \"loss function\":Loss_functionsSelector(lf_select)\n",
    "    }\n",
    "\n",
    "    wandb.watch(model, log_freq=100)\n",
    "    \n",
    "    best_metric = -1\n",
    "    best_metric_epoch = -1\n",
    "    best_metric = 0.0\n",
    "    best_metric_epoch = 0\n",
    "\n",
    "    for epoch in range(max_epochs):\n",
    "        print(f\"epoch {epoch + 1}/{max_epochs}\")\n",
    "        epoch, best_metric, epoch_best  = train(lf_select,optimizer,model,root_path,epoch,train_loader,val_loader,scheduler,best_metric,best_metric_epoch,device)\n",
    "    \n",
    "    print(\n",
    "            f'Train completed, best_metric: {dice_val_best:.4f} '\n",
    "            f'at iteration: {epoch_best}'\n",
    "        )\n",
    "    \n",
    "    wandb.log({\"best_dice_metric\": best_metric, \"best_metric_epoch\": best_metric_epoch})"
   ]
  },
  {
   "cell_type": "code",
   "execution_count": null,
   "id": "22411428",
   "metadata": {
    "scrolled": true
   },
   "outputs": [],
   "source": []
  },
  {
   "cell_type": "code",
   "execution_count": null,
   "id": "470f2e14",
   "metadata": {},
   "outputs": [],
   "source": []
  },
  {
   "cell_type": "code",
   "execution_count": 41,
   "id": "01d0ce36",
   "metadata": {
    "scrolled": false
   },
   "outputs": [
    {
     "name": "stdout",
     "output_type": "stream",
     "text": [
      "device: cuda\n",
      "308\n",
      "307 307 307\n",
      "/home/umcg/Desktop/NBIA/NBIA_Nifti_v0/LUNG1-046/LUNG1-046_ct.nii.gz\n",
      "/home/umcg/Desktop/NBIA/NBIA_Nifti_v0/LUNG1-046/LUNG1-046_ct_GTV-1.nii.gz\n",
      "/home/umcg/Desktop/NBIA/NBIA_Nifti_v0/LUNG1-046/LUNG1-046_xBP_LungMask.nii.gz\n",
      "train val len: 17 - 5\n",
      "keys to transpose: ('image', 'lung', 'label')\n",
      "keys to transpose: ('image', 'lung', 'label')\n"
     ]
    },
    {
     "data": {
      "text/html": [
       "Finishing last run (ID:1pb0xdb3) before initializing another..."
      ],
      "text/plain": [
       "<IPython.core.display.HTML object>"
      ]
     },
     "metadata": {},
     "output_type": "display_data"
    },
    {
     "data": {
      "text/html": [
       "Waiting for W&B process to finish... <strong style=\"color:green\">(success).</strong>"
      ],
      "text/plain": [
       "<IPython.core.display.HTML object>"
      ]
     },
     "metadata": {},
     "output_type": "display_data"
    },
    {
     "data": {
      "application/vnd.jupyter.widget-view+json": {
       "model_id": "ce53efe3947843c288b6523f322f1c7f",
       "version_major": 2,
       "version_minor": 0
      },
      "text/plain": [
       "VBox(children=(Label(value='0.002 MB of 0.002 MB uploaded (0.000 MB deduped)\\r'), FloatProgress(value=1.0, max…"
      ]
     },
     "metadata": {},
     "output_type": "display_data"
    },
    {
     "data": {
      "text/html": [
       "<style>\n",
       "    table.wandb td:nth-child(1) { padding: 0 10px; text-align: left ; width: auto;} td:nth-child(2) {text-align: left ; width: 100%}\n",
       "    .wandb-row { display: flex; flex-direction: row; flex-wrap: wrap; justify-content: flex-start; width: 100% }\n",
       "    .wandb-col { display: flex; flex-direction: column; flex-basis: 100%; flex: 1; padding: 10px; }\n",
       "    </style>\n",
       "<div class=\"wandb-row\"><div class=\"wandb-col\"><h3>Run history:</h3><br/><table class=\"wandb\"><tr><td>learning_rate</td><td>▁</td></tr><tr><td>train/loss</td><td>▆▄▄▄▆▂▁▄█</td></tr><tr><td>train/loss_epoch</td><td>▁</td></tr></table><br/></div><div class=\"wandb-col\"><h3>Run summary:</h3><br/><table class=\"wandb\"><tr><td>learning_rate</td><td>0.0001</td></tr><tr><td>train/loss</td><td>1.0</td></tr><tr><td>train/loss_epoch</td><td>0.90096</td></tr></table><br/></div></div>"
      ],
      "text/plain": [
       "<IPython.core.display.HTML object>"
      ]
     },
     "metadata": {},
     "output_type": "display_data"
    },
    {
     "data": {
      "text/html": [
       "Synced <strong style=\"color:#cdcd00\">fallen-dust-12</strong>: <a href=\"https://wandb.ai/ldelaoa/NBIA_V0/runs/1pb0xdb3\" target=\"_blank\">https://wandb.ai/ldelaoa/NBIA_V0/runs/1pb0xdb3</a><br/>Synced 5 W&B file(s), 0 media file(s), 0 artifact file(s) and 0 other file(s)"
      ],
      "text/plain": [
       "<IPython.core.display.HTML object>"
      ]
     },
     "metadata": {},
     "output_type": "display_data"
    },
    {
     "data": {
      "text/html": [
       "Find logs at: <code>./wandb/run-20221114_164650-1pb0xdb3/logs</code>"
      ],
      "text/plain": [
       "<IPython.core.display.HTML object>"
      ]
     },
     "metadata": {},
     "output_type": "display_data"
    },
    {
     "data": {
      "text/html": [
       "Successfully finished last run (ID:1pb0xdb3). Initializing new run:<br/>"
      ],
      "text/plain": [
       "<IPython.core.display.HTML object>"
      ]
     },
     "metadata": {},
     "output_type": "display_data"
    },
    {
     "data": {
      "application/vnd.jupyter.widget-view+json": {
       "model_id": "b2a27ef968ba4ceca1396549d06ac75d",
       "version_major": 2,
       "version_minor": 0
      },
      "text/plain": [
       "VBox(children=(Label(value='Waiting for wandb.init()...\\r'), FloatProgress(value=0.016669658500001107, max=1.0…"
      ]
     },
     "metadata": {},
     "output_type": "display_data"
    },
    {
     "data": {
      "text/html": [
       "Tracking run with wandb version 0.13.5"
      ],
      "text/plain": [
       "<IPython.core.display.HTML object>"
      ]
     },
     "metadata": {},
     "output_type": "display_data"
    },
    {
     "data": {
      "text/html": [
       "Run data is saved locally in <code>/home/umcg/Desktop/AutomaticITV_code/wandb/run-20221114_164934-1mf7cz04</code>"
      ],
      "text/plain": [
       "<IPython.core.display.HTML object>"
      ]
     },
     "metadata": {},
     "output_type": "display_data"
    },
    {
     "data": {
      "text/html": [
       "Syncing run <strong><a href=\"https://wandb.ai/ldelaoa/NBIA_V0/runs/1mf7cz04\" target=\"_blank\">warm-shape-13</a></strong> to <a href=\"https://wandb.ai/ldelaoa/NBIA_V0\" target=\"_blank\">Weights & Biases</a> (<a href=\"https://wandb.me/run\" target=\"_blank\">docs</a>)<br/>"
      ],
      "text/plain": [
       "<IPython.core.display.HTML object>"
      ]
     },
     "metadata": {},
     "output_type": "display_data"
    },
    {
     "name": "stdout",
     "output_type": "stream",
     "text": [
      "epoch 1/100\n"
     ]
    },
    {
     "ename": "RuntimeError",
     "evalue": "CUDA out of memory. Tried to allocate 674.00 MiB (GPU 0; 7.93 GiB total capacity; 4.63 GiB already allocated; 491.50 MiB free; 6.46 GiB reserved in total by PyTorch) If reserved memory is >> allocated memory try setting max_split_size_mb to avoid fragmentation.  See documentation for Memory Management and PYTORCH_CUDA_ALLOC_CONF",
     "output_type": "error",
     "traceback": [
      "\u001b[0;31m---------------------------------------------------------------------------\u001b[0m",
      "\u001b[0;31mRuntimeError\u001b[0m                              Traceback (most recent call last)",
      "Cell \u001b[0;32mIn [41], line 9\u001b[0m\n\u001b[1;32m      6\u001b[0m \u001b[38;5;28;01mif\u001b[39;00m \u001b[38;5;28;01mTrue\u001b[39;00m:\n\u001b[1;32m      7\u001b[0m     get_ipython()\u001b[38;5;241m.\u001b[39mrun_line_magic(\u001b[38;5;124m'\u001b[39m\u001b[38;5;124mmatplotlib\u001b[39m\u001b[38;5;124m'\u001b[39m, \u001b[38;5;124m'\u001b[39m\u001b[38;5;124minline\u001b[39m\u001b[38;5;124m'\u001b[39m)\n\u001b[0;32m----> 9\u001b[0m \u001b[43mmain\u001b[49m\u001b[43m(\u001b[49m\u001b[43m)\u001b[49m\n",
      "Cell \u001b[0;32mIn [40], line 131\u001b[0m, in \u001b[0;36mmain\u001b[0;34m()\u001b[0m\n\u001b[1;32m    129\u001b[0m \u001b[38;5;28;01mfor\u001b[39;00m epoch \u001b[38;5;129;01min\u001b[39;00m \u001b[38;5;28mrange\u001b[39m(max_epochs):\n\u001b[1;32m    130\u001b[0m     \u001b[38;5;28mprint\u001b[39m(\u001b[38;5;124mf\u001b[39m\u001b[38;5;124m\"\u001b[39m\u001b[38;5;124mepoch \u001b[39m\u001b[38;5;132;01m{\u001b[39;00mepoch \u001b[38;5;241m+\u001b[39m \u001b[38;5;241m1\u001b[39m\u001b[38;5;132;01m}\u001b[39;00m\u001b[38;5;124m/\u001b[39m\u001b[38;5;132;01m{\u001b[39;00mmax_epochs\u001b[38;5;132;01m}\u001b[39;00m\u001b[38;5;124m\"\u001b[39m)\n\u001b[0;32m--> 131\u001b[0m     epoch, best_metric, epoch_best  \u001b[38;5;241m=\u001b[39m \u001b[43mtrain\u001b[49m\u001b[43m(\u001b[49m\u001b[43mlf_select\u001b[49m\u001b[43m,\u001b[49m\u001b[43moptimizer\u001b[49m\u001b[43m,\u001b[49m\u001b[43mmodel\u001b[49m\u001b[43m,\u001b[49m\u001b[43mroot_path\u001b[49m\u001b[43m,\u001b[49m\u001b[43mepoch\u001b[49m\u001b[43m,\u001b[49m\u001b[43mtrain_loader\u001b[49m\u001b[43m,\u001b[49m\u001b[43mval_loader\u001b[49m\u001b[43m,\u001b[49m\u001b[43mscheduler\u001b[49m\u001b[43m,\u001b[49m\u001b[43mbest_metric\u001b[49m\u001b[43m,\u001b[49m\u001b[43mbest_metric_epoch\u001b[49m\u001b[43m,\u001b[49m\u001b[43mdevice\u001b[49m\u001b[43m)\u001b[49m\n\u001b[1;32m    133\u001b[0m \u001b[38;5;28mprint\u001b[39m(\n\u001b[1;32m    134\u001b[0m         \u001b[38;5;124mf\u001b[39m\u001b[38;5;124m'\u001b[39m\u001b[38;5;124mTrain completed, best_metric: \u001b[39m\u001b[38;5;132;01m{\u001b[39;00mdice_val_best\u001b[38;5;132;01m:\u001b[39;00m\u001b[38;5;124m.4f\u001b[39m\u001b[38;5;132;01m}\u001b[39;00m\u001b[38;5;124m \u001b[39m\u001b[38;5;124m'\u001b[39m\n\u001b[1;32m    135\u001b[0m         \u001b[38;5;124mf\u001b[39m\u001b[38;5;124m'\u001b[39m\u001b[38;5;124mat iteration: \u001b[39m\u001b[38;5;132;01m{\u001b[39;00mepoch_best\u001b[38;5;132;01m}\u001b[39;00m\u001b[38;5;124m'\u001b[39m\n\u001b[1;32m    136\u001b[0m     )\n\u001b[1;32m    138\u001b[0m wandb\u001b[38;5;241m.\u001b[39mlog({\u001b[38;5;124m\"\u001b[39m\u001b[38;5;124mbest_dice_metric\u001b[39m\u001b[38;5;124m\"\u001b[39m: best_metric, \u001b[38;5;124m\"\u001b[39m\u001b[38;5;124mbest_metric_epoch\u001b[39m\u001b[38;5;124m\"\u001b[39m: best_metric_epoch})\n",
      "Cell \u001b[0;32mIn [39], line 22\u001b[0m, in \u001b[0;36mtrain\u001b[0;34m(lf_select, optimizer, model, root_path, epoch, train_loader, val_loader, scheduler, best_metric, best_metric_epoch, device)\u001b[0m\n\u001b[1;32m     20\u001b[0m loss_function\u001b[38;5;241m=\u001b[39mLoss_functionsSelector(lf_select)\n\u001b[1;32m     21\u001b[0m loss \u001b[38;5;241m=\u001b[39m loss_function(outputs, labels)\n\u001b[0;32m---> 22\u001b[0m \u001b[43mloss\u001b[49m\u001b[38;5;241;43m.\u001b[39;49m\u001b[43mbackward\u001b[49m\u001b[43m(\u001b[49m\u001b[43m)\u001b[49m\n\u001b[1;32m     23\u001b[0m optimizer\u001b[38;5;241m.\u001b[39mstep()\n\u001b[1;32m     24\u001b[0m epoch_loss \u001b[38;5;241m+\u001b[39m\u001b[38;5;241m=\u001b[39m loss\u001b[38;5;241m.\u001b[39mitem()\n",
      "File \u001b[0;32m~/Desktop/AutomaticITV_code/Aitv_envV0/lib/python3.10/site-packages/torch/_tensor.py:388\u001b[0m, in \u001b[0;36mTensor.backward\u001b[0;34m(self, gradient, retain_graph, create_graph, inputs)\u001b[0m\n\u001b[1;32m    341\u001b[0m \u001b[38;5;124mr\u001b[39m\u001b[38;5;124;03m\"\"\"Computes the gradient of current tensor w.r.t. graph leaves.\u001b[39;00m\n\u001b[1;32m    342\u001b[0m \n\u001b[1;32m    343\u001b[0m \u001b[38;5;124;03mThe graph is differentiated using the chain rule. If the tensor is\u001b[39;00m\n\u001b[0;32m   (...)\u001b[0m\n\u001b[1;32m    385\u001b[0m \u001b[38;5;124;03m        used to compute the attr::tensors.\u001b[39;00m\n\u001b[1;32m    386\u001b[0m \u001b[38;5;124;03m\"\"\"\u001b[39;00m\n\u001b[1;32m    387\u001b[0m \u001b[38;5;28;01mif\u001b[39;00m has_torch_function_unary(\u001b[38;5;28mself\u001b[39m):\n\u001b[0;32m--> 388\u001b[0m     \u001b[38;5;28;01mreturn\u001b[39;00m \u001b[43mhandle_torch_function\u001b[49m\u001b[43m(\u001b[49m\n\u001b[1;32m    389\u001b[0m \u001b[43m        \u001b[49m\u001b[43mTensor\u001b[49m\u001b[38;5;241;43m.\u001b[39;49m\u001b[43mbackward\u001b[49m\u001b[43m,\u001b[49m\n\u001b[1;32m    390\u001b[0m \u001b[43m        \u001b[49m\u001b[43m(\u001b[49m\u001b[38;5;28;43mself\u001b[39;49m\u001b[43m,\u001b[49m\u001b[43m)\u001b[49m\u001b[43m,\u001b[49m\n\u001b[1;32m    391\u001b[0m \u001b[43m        \u001b[49m\u001b[38;5;28;43mself\u001b[39;49m\u001b[43m,\u001b[49m\n\u001b[1;32m    392\u001b[0m \u001b[43m        \u001b[49m\u001b[43mgradient\u001b[49m\u001b[38;5;241;43m=\u001b[39;49m\u001b[43mgradient\u001b[49m\u001b[43m,\u001b[49m\n\u001b[1;32m    393\u001b[0m \u001b[43m        \u001b[49m\u001b[43mretain_graph\u001b[49m\u001b[38;5;241;43m=\u001b[39;49m\u001b[43mretain_graph\u001b[49m\u001b[43m,\u001b[49m\n\u001b[1;32m    394\u001b[0m \u001b[43m        \u001b[49m\u001b[43mcreate_graph\u001b[49m\u001b[38;5;241;43m=\u001b[39;49m\u001b[43mcreate_graph\u001b[49m\u001b[43m,\u001b[49m\n\u001b[1;32m    395\u001b[0m \u001b[43m        \u001b[49m\u001b[43minputs\u001b[49m\u001b[38;5;241;43m=\u001b[39;49m\u001b[43minputs\u001b[49m\u001b[43m)\u001b[49m\n\u001b[1;32m    396\u001b[0m torch\u001b[38;5;241m.\u001b[39mautograd\u001b[38;5;241m.\u001b[39mbackward(\u001b[38;5;28mself\u001b[39m, gradient, retain_graph, create_graph, inputs\u001b[38;5;241m=\u001b[39minputs)\n",
      "File \u001b[0;32m~/Desktop/AutomaticITV_code/Aitv_envV0/lib/python3.10/site-packages/torch/overrides.py:1498\u001b[0m, in \u001b[0;36mhandle_torch_function\u001b[0;34m(public_api, relevant_args, *args, **kwargs)\u001b[0m\n\u001b[1;32m   1492\u001b[0m     warnings\u001b[38;5;241m.\u001b[39mwarn(\u001b[38;5;124m\"\u001b[39m\u001b[38;5;124mDefining your `__torch_function__ as a plain method is deprecated and \u001b[39m\u001b[38;5;124m\"\u001b[39m\n\u001b[1;32m   1493\u001b[0m                   \u001b[38;5;124m\"\u001b[39m\u001b[38;5;124mwill be an error in future, please define it as a classmethod.\u001b[39m\u001b[38;5;124m\"\u001b[39m,\n\u001b[1;32m   1494\u001b[0m                   \u001b[38;5;167;01mDeprecationWarning\u001b[39;00m)\n\u001b[1;32m   1496\u001b[0m \u001b[38;5;66;03m# Use `public_api` instead of `implementation` so __torch_function__\u001b[39;00m\n\u001b[1;32m   1497\u001b[0m \u001b[38;5;66;03m# implementations can do equality/identity comparisons.\u001b[39;00m\n\u001b[0;32m-> 1498\u001b[0m result \u001b[38;5;241m=\u001b[39m \u001b[43mtorch_func_method\u001b[49m\u001b[43m(\u001b[49m\u001b[43mpublic_api\u001b[49m\u001b[43m,\u001b[49m\u001b[43m \u001b[49m\u001b[43mtypes\u001b[49m\u001b[43m,\u001b[49m\u001b[43m \u001b[49m\u001b[43margs\u001b[49m\u001b[43m,\u001b[49m\u001b[43m \u001b[49m\u001b[43mkwargs\u001b[49m\u001b[43m)\u001b[49m\n\u001b[1;32m   1500\u001b[0m \u001b[38;5;28;01mif\u001b[39;00m result \u001b[38;5;129;01mis\u001b[39;00m \u001b[38;5;129;01mnot\u001b[39;00m \u001b[38;5;28mNotImplemented\u001b[39m:\n\u001b[1;32m   1501\u001b[0m     \u001b[38;5;28;01mreturn\u001b[39;00m result\n",
      "File \u001b[0;32m~/Desktop/AutomaticITV_code/Aitv_envV0/lib/python3.10/site-packages/monai/data/meta_tensor.py:249\u001b[0m, in \u001b[0;36mMetaTensor.__torch_function__\u001b[0;34m(cls, func, types, args, kwargs)\u001b[0m\n\u001b[1;32m    247\u001b[0m \u001b[38;5;28;01mif\u001b[39;00m kwargs \u001b[38;5;129;01mis\u001b[39;00m \u001b[38;5;28;01mNone\u001b[39;00m:\n\u001b[1;32m    248\u001b[0m     kwargs \u001b[38;5;241m=\u001b[39m {}\n\u001b[0;32m--> 249\u001b[0m ret \u001b[38;5;241m=\u001b[39m \u001b[38;5;28;43msuper\u001b[39;49m\u001b[43m(\u001b[49m\u001b[43m)\u001b[49m\u001b[38;5;241;43m.\u001b[39;49m\u001b[43m__torch_function__\u001b[49m\u001b[43m(\u001b[49m\u001b[43mfunc\u001b[49m\u001b[43m,\u001b[49m\u001b[43m \u001b[49m\u001b[43mtypes\u001b[49m\u001b[43m,\u001b[49m\u001b[43m \u001b[49m\u001b[43margs\u001b[49m\u001b[43m,\u001b[49m\u001b[43m \u001b[49m\u001b[43mkwargs\u001b[49m\u001b[43m)\u001b[49m\n\u001b[1;32m    250\u001b[0m \u001b[38;5;66;03m# if `out` has been used as argument, metadata is not copied, nothing to do.\u001b[39;00m\n\u001b[1;32m    251\u001b[0m \u001b[38;5;66;03m# if \"out\" in kwargs:\u001b[39;00m\n\u001b[1;32m    252\u001b[0m \u001b[38;5;66;03m#     return ret\u001b[39;00m\n\u001b[1;32m    253\u001b[0m \u001b[38;5;66;03m# we might have 1 or multiple outputs. Might be MetaTensor, might be something\u001b[39;00m\n\u001b[1;32m    254\u001b[0m \u001b[38;5;66;03m# else (e.g., `__repr__` returns a string).\u001b[39;00m\n\u001b[1;32m    255\u001b[0m \u001b[38;5;66;03m# Convert to list (if necessary), process, and at end remove list if one was added.\u001b[39;00m\n\u001b[1;32m    256\u001b[0m \u001b[38;5;28;01mif\u001b[39;00m (\n\u001b[1;32m    257\u001b[0m     \u001b[38;5;28mhasattr\u001b[39m(torch, \u001b[38;5;124m\"\u001b[39m\u001b[38;5;124mreturn_types\u001b[39m\u001b[38;5;124m\"\u001b[39m)\n\u001b[1;32m    258\u001b[0m     \u001b[38;5;129;01mand\u001b[39;00m \u001b[38;5;28mhasattr\u001b[39m(func, \u001b[38;5;124m\"\u001b[39m\u001b[38;5;124m__name__\u001b[39m\u001b[38;5;124m\"\u001b[39m)\n\u001b[0;32m   (...)\u001b[0m\n\u001b[1;32m    262\u001b[0m ):\n\u001b[1;32m    263\u001b[0m     \u001b[38;5;66;03m# for torch.max(torch.tensor(1.0), dim=0), the return type is named-tuple like\u001b[39;00m\n",
      "File \u001b[0;32m~/Desktop/AutomaticITV_code/Aitv_envV0/lib/python3.10/site-packages/torch/_tensor.py:1121\u001b[0m, in \u001b[0;36mTensor.__torch_function__\u001b[0;34m(cls, func, types, args, kwargs)\u001b[0m\n\u001b[1;32m   1118\u001b[0m     \u001b[38;5;28;01mreturn\u001b[39;00m \u001b[38;5;28mNotImplemented\u001b[39m\n\u001b[1;32m   1120\u001b[0m \u001b[38;5;28;01mwith\u001b[39;00m _C\u001b[38;5;241m.\u001b[39mDisableTorchFunction():\n\u001b[0;32m-> 1121\u001b[0m     ret \u001b[38;5;241m=\u001b[39m \u001b[43mfunc\u001b[49m\u001b[43m(\u001b[49m\u001b[38;5;241;43m*\u001b[39;49m\u001b[43margs\u001b[49m\u001b[43m,\u001b[49m\u001b[43m \u001b[49m\u001b[38;5;241;43m*\u001b[39;49m\u001b[38;5;241;43m*\u001b[39;49m\u001b[43mkwargs\u001b[49m\u001b[43m)\u001b[49m\n\u001b[1;32m   1122\u001b[0m     \u001b[38;5;28;01mif\u001b[39;00m func \u001b[38;5;129;01min\u001b[39;00m get_default_nowrap_functions():\n\u001b[1;32m   1123\u001b[0m         \u001b[38;5;28;01mreturn\u001b[39;00m ret\n",
      "File \u001b[0;32m~/Desktop/AutomaticITV_code/Aitv_envV0/lib/python3.10/site-packages/torch/_tensor.py:396\u001b[0m, in \u001b[0;36mTensor.backward\u001b[0;34m(self, gradient, retain_graph, create_graph, inputs)\u001b[0m\n\u001b[1;32m    387\u001b[0m \u001b[38;5;28;01mif\u001b[39;00m has_torch_function_unary(\u001b[38;5;28mself\u001b[39m):\n\u001b[1;32m    388\u001b[0m     \u001b[38;5;28;01mreturn\u001b[39;00m handle_torch_function(\n\u001b[1;32m    389\u001b[0m         Tensor\u001b[38;5;241m.\u001b[39mbackward,\n\u001b[1;32m    390\u001b[0m         (\u001b[38;5;28mself\u001b[39m,),\n\u001b[0;32m   (...)\u001b[0m\n\u001b[1;32m    394\u001b[0m         create_graph\u001b[38;5;241m=\u001b[39mcreate_graph,\n\u001b[1;32m    395\u001b[0m         inputs\u001b[38;5;241m=\u001b[39minputs)\n\u001b[0;32m--> 396\u001b[0m \u001b[43mtorch\u001b[49m\u001b[38;5;241;43m.\u001b[39;49m\u001b[43mautograd\u001b[49m\u001b[38;5;241;43m.\u001b[39;49m\u001b[43mbackward\u001b[49m\u001b[43m(\u001b[49m\u001b[38;5;28;43mself\u001b[39;49m\u001b[43m,\u001b[49m\u001b[43m \u001b[49m\u001b[43mgradient\u001b[49m\u001b[43m,\u001b[49m\u001b[43m \u001b[49m\u001b[43mretain_graph\u001b[49m\u001b[43m,\u001b[49m\u001b[43m \u001b[49m\u001b[43mcreate_graph\u001b[49m\u001b[43m,\u001b[49m\u001b[43m \u001b[49m\u001b[43minputs\u001b[49m\u001b[38;5;241;43m=\u001b[39;49m\u001b[43minputs\u001b[49m\u001b[43m)\u001b[49m\n",
      "File \u001b[0;32m~/Desktop/AutomaticITV_code/Aitv_envV0/lib/python3.10/site-packages/torch/autograd/__init__.py:173\u001b[0m, in \u001b[0;36mbackward\u001b[0;34m(tensors, grad_tensors, retain_graph, create_graph, grad_variables, inputs)\u001b[0m\n\u001b[1;32m    168\u001b[0m     retain_graph \u001b[38;5;241m=\u001b[39m create_graph\n\u001b[1;32m    170\u001b[0m \u001b[38;5;66;03m# The reason we repeat same the comment below is that\u001b[39;00m\n\u001b[1;32m    171\u001b[0m \u001b[38;5;66;03m# some Python versions print out the first line of a multi-line function\u001b[39;00m\n\u001b[1;32m    172\u001b[0m \u001b[38;5;66;03m# calls in the traceback and some print out the last line\u001b[39;00m\n\u001b[0;32m--> 173\u001b[0m \u001b[43mVariable\u001b[49m\u001b[38;5;241;43m.\u001b[39;49m\u001b[43m_execution_engine\u001b[49m\u001b[38;5;241;43m.\u001b[39;49m\u001b[43mrun_backward\u001b[49m\u001b[43m(\u001b[49m\u001b[43m  \u001b[49m\u001b[38;5;66;43;03m# Calls into the C++ engine to run the backward pass\u001b[39;49;00m\n\u001b[1;32m    174\u001b[0m \u001b[43m    \u001b[49m\u001b[43mtensors\u001b[49m\u001b[43m,\u001b[49m\u001b[43m \u001b[49m\u001b[43mgrad_tensors_\u001b[49m\u001b[43m,\u001b[49m\u001b[43m \u001b[49m\u001b[43mretain_graph\u001b[49m\u001b[43m,\u001b[49m\u001b[43m \u001b[49m\u001b[43mcreate_graph\u001b[49m\u001b[43m,\u001b[49m\u001b[43m \u001b[49m\u001b[43minputs\u001b[49m\u001b[43m,\u001b[49m\n\u001b[1;32m    175\u001b[0m \u001b[43m    \u001b[49m\u001b[43mallow_unreachable\u001b[49m\u001b[38;5;241;43m=\u001b[39;49m\u001b[38;5;28;43;01mTrue\u001b[39;49;00m\u001b[43m,\u001b[49m\u001b[43m \u001b[49m\u001b[43maccumulate_grad\u001b[49m\u001b[38;5;241;43m=\u001b[39;49m\u001b[38;5;28;43;01mTrue\u001b[39;49;00m\u001b[43m)\u001b[49m\n",
      "File \u001b[0;32m~/Desktop/AutomaticITV_code/Aitv_envV0/lib/python3.10/site-packages/torch/autograd/function.py:253\u001b[0m, in \u001b[0;36mBackwardCFunction.apply\u001b[0;34m(self, *args)\u001b[0m\n\u001b[1;32m    249\u001b[0m     \u001b[38;5;28;01mraise\u001b[39;00m \u001b[38;5;167;01mRuntimeError\u001b[39;00m(\u001b[38;5;124m\"\u001b[39m\u001b[38;5;124mImplementing both \u001b[39m\u001b[38;5;124m'\u001b[39m\u001b[38;5;124mbackward\u001b[39m\u001b[38;5;124m'\u001b[39m\u001b[38;5;124m and \u001b[39m\u001b[38;5;124m'\u001b[39m\u001b[38;5;124mvjp\u001b[39m\u001b[38;5;124m'\u001b[39m\u001b[38;5;124m for a custom \u001b[39m\u001b[38;5;124m\"\u001b[39m\n\u001b[1;32m    250\u001b[0m                        \u001b[38;5;124m\"\u001b[39m\u001b[38;5;124mFunction is not allowed. You should only implement one \u001b[39m\u001b[38;5;124m\"\u001b[39m\n\u001b[1;32m    251\u001b[0m                        \u001b[38;5;124m\"\u001b[39m\u001b[38;5;124mof them.\u001b[39m\u001b[38;5;124m\"\u001b[39m)\n\u001b[1;32m    252\u001b[0m user_fn \u001b[38;5;241m=\u001b[39m vjp_fn \u001b[38;5;28;01mif\u001b[39;00m vjp_fn \u001b[38;5;129;01mis\u001b[39;00m \u001b[38;5;129;01mnot\u001b[39;00m Function\u001b[38;5;241m.\u001b[39mvjp \u001b[38;5;28;01melse\u001b[39;00m backward_fn\n\u001b[0;32m--> 253\u001b[0m \u001b[38;5;28;01mreturn\u001b[39;00m \u001b[43muser_fn\u001b[49m\u001b[43m(\u001b[49m\u001b[38;5;28;43mself\u001b[39;49m\u001b[43m,\u001b[49m\u001b[43m \u001b[49m\u001b[38;5;241;43m*\u001b[39;49m\u001b[43margs\u001b[49m\u001b[43m)\u001b[49m\n",
      "File \u001b[0;32m~/Desktop/AutomaticITV_code/Aitv_envV0/lib/python3.10/site-packages/torch/utils/checkpoint.py:146\u001b[0m, in \u001b[0;36mCheckpointFunction.backward\u001b[0;34m(ctx, *args)\u001b[0m\n\u001b[1;32m    142\u001b[0m \u001b[38;5;28;01mif\u001b[39;00m \u001b[38;5;28mlen\u001b[39m(outputs_with_grad) \u001b[38;5;241m==\u001b[39m \u001b[38;5;241m0\u001b[39m:\n\u001b[1;32m    143\u001b[0m     \u001b[38;5;28;01mraise\u001b[39;00m \u001b[38;5;167;01mRuntimeError\u001b[39;00m(\n\u001b[1;32m    144\u001b[0m         \u001b[38;5;124m\"\u001b[39m\u001b[38;5;124mnone of output has requires_grad=True,\u001b[39m\u001b[38;5;124m\"\u001b[39m\n\u001b[1;32m    145\u001b[0m         \u001b[38;5;124m\"\u001b[39m\u001b[38;5;124m this checkpoint() is not necessary\u001b[39m\u001b[38;5;124m\"\u001b[39m)\n\u001b[0;32m--> 146\u001b[0m \u001b[43mtorch\u001b[49m\u001b[38;5;241;43m.\u001b[39;49m\u001b[43mautograd\u001b[49m\u001b[38;5;241;43m.\u001b[39;49m\u001b[43mbackward\u001b[49m\u001b[43m(\u001b[49m\u001b[43moutputs_with_grad\u001b[49m\u001b[43m,\u001b[49m\u001b[43m \u001b[49m\u001b[43margs_with_grad\u001b[49m\u001b[43m)\u001b[49m\n\u001b[1;32m    147\u001b[0m grads \u001b[38;5;241m=\u001b[39m \u001b[38;5;28mtuple\u001b[39m(inp\u001b[38;5;241m.\u001b[39mgrad \u001b[38;5;28;01mif\u001b[39;00m \u001b[38;5;28misinstance\u001b[39m(inp, torch\u001b[38;5;241m.\u001b[39mTensor) \u001b[38;5;28;01melse\u001b[39;00m \u001b[38;5;28;01mNone\u001b[39;00m\n\u001b[1;32m    148\u001b[0m               \u001b[38;5;28;01mfor\u001b[39;00m inp \u001b[38;5;129;01min\u001b[39;00m detached_inputs)\n\u001b[1;32m    150\u001b[0m \u001b[38;5;28;01mreturn\u001b[39;00m (\u001b[38;5;28;01mNone\u001b[39;00m, \u001b[38;5;28;01mNone\u001b[39;00m) \u001b[38;5;241m+\u001b[39m grads\n",
      "File \u001b[0;32m~/Desktop/AutomaticITV_code/Aitv_envV0/lib/python3.10/site-packages/torch/autograd/__init__.py:173\u001b[0m, in \u001b[0;36mbackward\u001b[0;34m(tensors, grad_tensors, retain_graph, create_graph, grad_variables, inputs)\u001b[0m\n\u001b[1;32m    168\u001b[0m     retain_graph \u001b[38;5;241m=\u001b[39m create_graph\n\u001b[1;32m    170\u001b[0m \u001b[38;5;66;03m# The reason we repeat same the comment below is that\u001b[39;00m\n\u001b[1;32m    171\u001b[0m \u001b[38;5;66;03m# some Python versions print out the first line of a multi-line function\u001b[39;00m\n\u001b[1;32m    172\u001b[0m \u001b[38;5;66;03m# calls in the traceback and some print out the last line\u001b[39;00m\n\u001b[0;32m--> 173\u001b[0m \u001b[43mVariable\u001b[49m\u001b[38;5;241;43m.\u001b[39;49m\u001b[43m_execution_engine\u001b[49m\u001b[38;5;241;43m.\u001b[39;49m\u001b[43mrun_backward\u001b[49m\u001b[43m(\u001b[49m\u001b[43m  \u001b[49m\u001b[38;5;66;43;03m# Calls into the C++ engine to run the backward pass\u001b[39;49;00m\n\u001b[1;32m    174\u001b[0m \u001b[43m    \u001b[49m\u001b[43mtensors\u001b[49m\u001b[43m,\u001b[49m\u001b[43m \u001b[49m\u001b[43mgrad_tensors_\u001b[49m\u001b[43m,\u001b[49m\u001b[43m \u001b[49m\u001b[43mretain_graph\u001b[49m\u001b[43m,\u001b[49m\u001b[43m \u001b[49m\u001b[43mcreate_graph\u001b[49m\u001b[43m,\u001b[49m\u001b[43m \u001b[49m\u001b[43minputs\u001b[49m\u001b[43m,\u001b[49m\n\u001b[1;32m    175\u001b[0m \u001b[43m    \u001b[49m\u001b[43mallow_unreachable\u001b[49m\u001b[38;5;241;43m=\u001b[39;49m\u001b[38;5;28;43;01mTrue\u001b[39;49;00m\u001b[43m,\u001b[49m\u001b[43m \u001b[49m\u001b[43maccumulate_grad\u001b[49m\u001b[38;5;241;43m=\u001b[39;49m\u001b[38;5;28;43;01mTrue\u001b[39;49;00m\u001b[43m)\u001b[49m\n",
      "\u001b[0;31mRuntimeError\u001b[0m: CUDA out of memory. Tried to allocate 674.00 MiB (GPU 0; 7.93 GiB total capacity; 4.63 GiB already allocated; 491.50 MiB free; 6.46 GiB reserved in total by PyTorch) If reserved memory is >> allocated memory try setting max_split_size_mb to avoid fragmentation.  See documentation for Memory Management and PYTORCH_CUDA_ALLOC_CONF"
     ]
    }
   ],
   "source": [
    "if __name__ == \"__main__\":\n",
    "    device = torch.device('cuda' if torch.cuda.is_available() else 'cpu')\n",
    "    print('device:', device)\n",
    "    num_workers=0#12\n",
    "\n",
    "    if True:\n",
    "        %matplotlib inline\n",
    "        \n",
    "    main()"
   ]
  }
 ],
 "metadata": {
  "kernelspec": {
   "display_name": "Python 3 (ipykernel)",
   "language": "python",
   "name": "python3"
  },
  "language_info": {
   "codemirror_mode": {
    "name": "ipython",
    "version": 3
   },
   "file_extension": ".py",
   "mimetype": "text/x-python",
   "name": "python",
   "nbconvert_exporter": "python",
   "pygments_lexer": "ipython3",
   "version": "3.10.6"
  }
 },
 "nbformat": 4,
 "nbformat_minor": 5
}
