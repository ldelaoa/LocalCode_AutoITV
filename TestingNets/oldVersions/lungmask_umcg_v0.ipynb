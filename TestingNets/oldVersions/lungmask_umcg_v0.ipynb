{
 "cells": [
  {
   "cell_type": "markdown",
   "id": "015392f5",
   "metadata": {},
   "source": [
    "#pip install git+https://github.com/JoHof/lungmask\n",
    "Notebook to segment and create a ROI from all the ct of the umcg 4d data\n"
   ]
  },
  {
   "cell_type": "code",
   "execution_count": null,
   "id": "6db34f45",
   "metadata": {},
   "outputs": [],
   "source": []
  },
  {
   "cell_type": "raw",
   "id": "5d477af9",
   "metadata": {},
   "source": [
    "import torch\n",
    "import matplotlib.pyplot as plt\n",
    "import tempfile\n",
    "import shutil\n",
    "import os\n",
    "import random\n",
    "import glob\n",
    "import nibabel as nib\n",
    "import numpy as np\n",
    "from scipy.ndimage import rotate\n",
    "\n",
    "if True:\n",
    "    get_ipython().run_line_magic('matplotlib', 'inline')\n",
    "\n",
    "device = torch.device('cuda' if torch.cuda.is_available() else 'cpu')\n",
    "print('device:', device)\n",
    "max_epochs = 100\n",
    "\n",
    "\n",
    "#from lungtumormask import mask as tumormask\n",
    "import SimpleITK as sitk\n",
    "from lungmask import mask as lungmask_fun\n"
   ]
  },
  {
   "cell_type": "code",
   "execution_count": 15,
   "id": "0605106a",
   "metadata": {
    "scrolled": false
   },
   "outputs": [
    {
     "name": "stdout",
     "output_type": "stream",
     "text": [
      "3\n",
      "/home/umcg/Desktop/Dicom_UMCG/MultipleBP/0169708/0169708_30%_ct.nii.gz\n"
     ]
    },
    {
     "name": "stderr",
     "output_type": "stream",
     "text": [
      "100%|██████████| 10/10 [00:04<00:00,  2.47it/s]\n",
      "100%|██████████| 6/6 [00:00<00:00, 59.42it/s]\n"
     ]
    },
    {
     "name": "stdout",
     "output_type": "stream",
     "text": [
      "/home/umcg/Desktop/Dicom_UMCG/MultipleBP/0169708/0169708_ 0%_ct.nii.gz\n"
     ]
    },
    {
     "name": "stderr",
     "output_type": "stream",
     "text": [
      "100%|██████████| 10/10 [00:04<00:00,  2.46it/s]\n",
      "100%|██████████| 6/6 [00:00<00:00, 71.97it/s]\n"
     ]
    },
    {
     "name": "stdout",
     "output_type": "stream",
     "text": [
      "/home/umcg/Desktop/Dicom_UMCG/MultipleBP/0169708/0169708_60%_ct.nii.gz\n"
     ]
    },
    {
     "name": "stderr",
     "output_type": "stream",
     "text": [
      "100%|██████████| 10/10 [00:04<00:00,  2.46it/s]\n",
      "100%|██████████| 4/4 [00:00<00:00, 86.24it/s]\n"
     ]
    },
    {
     "name": "stdout",
     "output_type": "stream",
     "text": [
      "/home/umcg/Desktop/Dicom_UMCG/MultipleBP/0169708/0169708_90%_ct.nii.gz\n"
     ]
    },
    {
     "name": "stderr",
     "output_type": "stream",
     "text": [
      "100%|██████████| 10/10 [00:04<00:00,  2.47it/s]\n",
      "100%|██████████| 7/7 [00:00<00:00, 84.22it/s]\n"
     ]
    },
    {
     "name": "stdout",
     "output_type": "stream",
     "text": [
      "/home/umcg/Desktop/Dicom_UMCG/MultipleBP/0169708/0169708_80%_ct.nii.gz\n"
     ]
    },
    {
     "name": "stderr",
     "output_type": "stream",
     "text": [
      "100%|██████████| 10/10 [00:04<00:00,  2.45it/s]\n",
      "100%|██████████| 6/6 [00:00<00:00, 69.48it/s]\n"
     ]
    },
    {
     "name": "stdout",
     "output_type": "stream",
     "text": [
      "/home/umcg/Desktop/Dicom_UMCG/MultipleBP/0169708/0169708_70%_ct.nii.gz\n"
     ]
    },
    {
     "name": "stderr",
     "output_type": "stream",
     "text": [
      "100%|██████████| 10/10 [00:04<00:00,  2.33it/s]\n",
      "100%|██████████| 10/10 [00:00<00:00, 93.68it/s]\n"
     ]
    },
    {
     "name": "stdout",
     "output_type": "stream",
     "text": [
      "/home/umcg/Desktop/Dicom_UMCG/MultipleBP/0169708/0169708_20%_ct.nii.gz\n"
     ]
    },
    {
     "name": "stderr",
     "output_type": "stream",
     "text": [
      "100%|██████████| 10/10 [00:04<00:00,  2.46it/s]\n",
      "100%|██████████| 4/4 [00:00<00:00, 84.77it/s]\n"
     ]
    },
    {
     "name": "stdout",
     "output_type": "stream",
     "text": [
      "/home/umcg/Desktop/Dicom_UMCG/MultipleBP/0169708/0169708_10%_ct.nii.gz\n"
     ]
    },
    {
     "name": "stderr",
     "output_type": "stream",
     "text": [
      "100%|██████████| 10/10 [00:04<00:00,  2.47it/s]\n",
      "100%|██████████| 7/7 [00:00<00:00, 82.39it/s]\n"
     ]
    },
    {
     "name": "stdout",
     "output_type": "stream",
     "text": [
      "/home/umcg/Desktop/Dicom_UMCG/MultipleBP/0169708/0169708_50%_ct.nii.gz\n"
     ]
    },
    {
     "name": "stderr",
     "output_type": "stream",
     "text": [
      "100%|██████████| 10/10 [00:04<00:00,  2.45it/s]\n",
      "100%|██████████| 6/6 [00:00<00:00, 135.39it/s]\n"
     ]
    },
    {
     "name": "stdout",
     "output_type": "stream",
     "text": [
      "/home/umcg/Desktop/Dicom_UMCG/MultipleBP/0169708/0169708_40%_ct.nii.gz\n"
     ]
    },
    {
     "name": "stderr",
     "output_type": "stream",
     "text": [
      "100%|██████████| 10/10 [00:04<00:00,  2.40it/s]\n",
      "100%|██████████| 7/7 [00:00<00:00, 92.54it/s]\n"
     ]
    },
    {
     "name": "stdout",
     "output_type": "stream",
     "text": [
      "/home/umcg/Desktop/Dicom_UMCG/MultipleBP/0081874/0081874_70%_ct.nii.gz\n"
     ]
    },
    {
     "name": "stderr",
     "output_type": "stream",
     "text": [
      "100%|██████████| 10/10 [00:04<00:00,  2.43it/s]\n",
      "100%|██████████| 3/3 [00:00<00:00, 1206.65it/s]\n"
     ]
    },
    {
     "name": "stdout",
     "output_type": "stream",
     "text": [
      "/home/umcg/Desktop/Dicom_UMCG/MultipleBP/0081874/0081874_ 0%_ct.nii.gz\n"
     ]
    },
    {
     "name": "stderr",
     "output_type": "stream",
     "text": [
      "100%|██████████| 10/10 [00:04<00:00,  2.42it/s]\n",
      "100%|██████████| 3/3 [00:00<00:00, 1117.49it/s]\n"
     ]
    },
    {
     "name": "stdout",
     "output_type": "stream",
     "text": [
      "/home/umcg/Desktop/Dicom_UMCG/MultipleBP/0081874/0081874_80%_ct.nii.gz\n"
     ]
    },
    {
     "name": "stderr",
     "output_type": "stream",
     "text": [
      "100%|██████████| 10/10 [00:04<00:00,  2.44it/s]\n",
      "100%|██████████| 3/3 [00:00<00:00, 1152.28it/s]\n"
     ]
    },
    {
     "name": "stdout",
     "output_type": "stream",
     "text": [
      "/home/umcg/Desktop/Dicom_UMCG/MultipleBP/0081874/0081874_60%_ct.nii.gz\n"
     ]
    },
    {
     "name": "stderr",
     "output_type": "stream",
     "text": [
      "100%|██████████| 10/10 [00:04<00:00,  2.36it/s]\n",
      "100%|██████████| 5/5 [00:00<00:00, 1844.30it/s]\n"
     ]
    },
    {
     "name": "stdout",
     "output_type": "stream",
     "text": [
      "/home/umcg/Desktop/Dicom_UMCG/MultipleBP/0081874/0081874_90%_ct.nii.gz\n"
     ]
    },
    {
     "name": "stderr",
     "output_type": "stream",
     "text": [
      "100%|██████████| 10/10 [00:04<00:00,  2.49it/s]\n",
      "100%|██████████| 4/4 [00:00<00:00, 78.27it/s]\n"
     ]
    },
    {
     "name": "stdout",
     "output_type": "stream",
     "text": [
      "/home/umcg/Desktop/Dicom_UMCG/MultipleBP/0081874/0081874_20%_ct.nii.gz\n"
     ]
    },
    {
     "name": "stderr",
     "output_type": "stream",
     "text": [
      "100%|██████████| 10/10 [00:04<00:00,  2.45it/s]\n",
      "100%|██████████| 5/5 [00:00<00:00, 101.72it/s]\n"
     ]
    },
    {
     "name": "stdout",
     "output_type": "stream",
     "text": [
      "/home/umcg/Desktop/Dicom_UMCG/MultipleBP/0081874/0081874_10%_ct.nii.gz\n"
     ]
    },
    {
     "name": "stderr",
     "output_type": "stream",
     "text": [
      "100%|██████████| 10/10 [00:04<00:00,  2.46it/s]\n",
      "100%|██████████| 4/4 [00:00<00:00, 90.91it/s]\n"
     ]
    },
    {
     "name": "stdout",
     "output_type": "stream",
     "text": [
      "/home/umcg/Desktop/Dicom_UMCG/MultipleBP/0081874/0081874_40%_ct.nii.gz\n"
     ]
    },
    {
     "name": "stderr",
     "output_type": "stream",
     "text": [
      "100%|██████████| 10/10 [00:04<00:00,  2.45it/s]\n",
      "100%|██████████| 2/2 [00:00<00:00, 880.60it/s]\n"
     ]
    },
    {
     "name": "stdout",
     "output_type": "stream",
     "text": [
      "/home/umcg/Desktop/Dicom_UMCG/MultipleBP/0081874/0081874_30%_ct.nii.gz\n"
     ]
    },
    {
     "name": "stderr",
     "output_type": "stream",
     "text": [
      "100%|██████████| 10/10 [00:04<00:00,  2.47it/s]\n",
      "100%|██████████| 4/4 [00:00<00:00, 160.15it/s]\n"
     ]
    },
    {
     "name": "stdout",
     "output_type": "stream",
     "text": [
      "/home/umcg/Desktop/Dicom_UMCG/MultipleBP/0081874/0081874_50%_ct.nii.gz\n"
     ]
    },
    {
     "name": "stderr",
     "output_type": "stream",
     "text": [
      "100%|██████████| 10/10 [00:04<00:00,  2.45it/s]\n",
      "100%|██████████| 5/5 [00:00<00:00, 117.75it/s]\n"
     ]
    },
    {
     "name": "stdout",
     "output_type": "stream",
     "text": [
      "/home/umcg/Desktop/Dicom_UMCG/MultipleBP/0045632/0045632_90%_ct.nii.gz\n"
     ]
    },
    {
     "name": "stderr",
     "output_type": "stream",
     "text": [
      "100%|██████████| 9/9 [00:03<00:00,  2.45it/s]\n",
      "100%|██████████| 4/4 [00:00<00:00, 92.53it/s]\n"
     ]
    },
    {
     "name": "stdout",
     "output_type": "stream",
     "text": [
      "/home/umcg/Desktop/Dicom_UMCG/MultipleBP/0045632/0045632_ 0%_ct.nii.gz\n"
     ]
    },
    {
     "name": "stderr",
     "output_type": "stream",
     "text": [
      "100%|██████████| 9/9 [00:03<00:00,  2.47it/s]\n",
      "100%|██████████| 7/7 [00:00<00:00, 83.57it/s]\n"
     ]
    },
    {
     "name": "stdout",
     "output_type": "stream",
     "text": [
      "/home/umcg/Desktop/Dicom_UMCG/MultipleBP/0045632/0045632_20%_ct.nii.gz\n"
     ]
    },
    {
     "name": "stderr",
     "output_type": "stream",
     "text": [
      "100%|██████████| 9/9 [00:03<00:00,  2.40it/s]\n",
      "100%|██████████| 10/10 [00:00<00:00, 75.74it/s]\n"
     ]
    },
    {
     "name": "stdout",
     "output_type": "stream",
     "text": [
      "/home/umcg/Desktop/Dicom_UMCG/MultipleBP/0045632/0045632_40%_ct.nii.gz\n"
     ]
    },
    {
     "name": "stderr",
     "output_type": "stream",
     "text": [
      "100%|██████████| 9/9 [00:03<00:00,  2.37it/s]\n",
      "100%|██████████| 7/7 [00:00<00:00, 107.86it/s]\n"
     ]
    },
    {
     "name": "stdout",
     "output_type": "stream",
     "text": [
      "/home/umcg/Desktop/Dicom_UMCG/MultipleBP/0045632/0045632_80%_ct.nii.gz\n"
     ]
    },
    {
     "name": "stderr",
     "output_type": "stream",
     "text": [
      "100%|██████████| 9/9 [00:03<00:00,  2.30it/s]\n",
      "100%|██████████| 8/8 [00:00<00:00, 79.43it/s]\n"
     ]
    },
    {
     "name": "stdout",
     "output_type": "stream",
     "text": [
      "/home/umcg/Desktop/Dicom_UMCG/MultipleBP/0045632/0045632_30%_ct.nii.gz\n"
     ]
    },
    {
     "name": "stderr",
     "output_type": "stream",
     "text": [
      "100%|██████████| 9/9 [00:03<00:00,  2.30it/s]\n",
      "100%|██████████| 10/10 [00:00<00:00, 72.02it/s]\n"
     ]
    },
    {
     "name": "stdout",
     "output_type": "stream",
     "text": [
      "/home/umcg/Desktop/Dicom_UMCG/MultipleBP/0045632/0045632_70%_ct.nii.gz\n"
     ]
    },
    {
     "name": "stderr",
     "output_type": "stream",
     "text": [
      "100%|██████████| 9/9 [00:03<00:00,  2.38it/s]\n",
      "100%|██████████| 8/8 [00:00<00:00, 132.60it/s]\n"
     ]
    },
    {
     "name": "stdout",
     "output_type": "stream",
     "text": [
      "/home/umcg/Desktop/Dicom_UMCG/MultipleBP/0045632/0045632_50%_ct.nii.gz\n"
     ]
    },
    {
     "name": "stderr",
     "output_type": "stream",
     "text": [
      "100%|██████████| 9/9 [00:03<00:00,  2.49it/s]\n",
      "100%|██████████| 6/6 [00:00<00:00, 134.73it/s]\n"
     ]
    },
    {
     "name": "stdout",
     "output_type": "stream",
     "text": [
      "/home/umcg/Desktop/Dicom_UMCG/MultipleBP/0045632/0045632_60%_ct.nii.gz\n"
     ]
    },
    {
     "name": "stderr",
     "output_type": "stream",
     "text": [
      "100%|██████████| 9/9 [00:03<00:00,  2.46it/s]\n",
      "100%|██████████| 8/8 [00:00<00:00, 99.08it/s]\n"
     ]
    },
    {
     "name": "stdout",
     "output_type": "stream",
     "text": [
      "/home/umcg/Desktop/Dicom_UMCG/MultipleBP/0045632/0045632_10%_ct.nii.gz\n"
     ]
    },
    {
     "name": "stderr",
     "output_type": "stream",
     "text": [
      "100%|██████████| 9/9 [00:03<00:00,  2.52it/s]\n",
      "100%|██████████| 10/10 [00:00<00:00, 71.94it/s]\n"
     ]
    }
   ],
   "source": [
    "all_patientdir = []\n",
    "#root_path = '/data/p308104/NBIA_Data/NIFTI_NBIA/imagesTr/'\n",
    "#root_path = '/data/p308104/Nifti_Imgs_V0/' #UMCG data on peregrine\n",
    "root_path = '/home/umcg/Desktop/Dicom_UMCG/MultipleBP/' #laptop umcg BP\n",
    "all_patientdir = os.listdir(root_path)\n",
    "all_patientdir\n",
    "print(len(all_patientdir))\n",
    "#Predicts both tumor and lung mask\n",
    "\n",
    "\n",
    "CT_fpaths = []\n",
    "lbl_fpaths= []\n",
    "lung_fpaths = []\n",
    "for patient_path in all_patientdir:\n",
    "    for root, dirs, files in os.walk(root_path+patient_path, topdown=False):    \n",
    "        for f in files:\n",
    "            if \"ct.nii\" in f:\n",
    "                print(root+'/'+f)\n",
    "                Predict(root+'/'+f)\n"
   ]
  },
  {
   "cell_type": "code",
   "execution_count": 14,
   "id": "52af72b8",
   "metadata": {},
   "outputs": [],
   "source": [
    "def Predict(path):\n",
    "    lung_path = path+'_LungM_v0.nii.gz'\n",
    "    \n",
    "    #Get Tumor mask\n",
    "    #predicted_path = ct+'_'+w+'_predicted.nii.gz'\n",
    "    #tumormask.mask(CT_path, predicted_path)\n",
    "    img = nib.load(root+'/'+f)\n",
    "\n",
    "    #Get Lung mask and save it\n",
    "    input_image = sitk.ReadImage(path, imageIO='NiftiImageIO')\n",
    "    lungmask = lungmask_fun.apply(input_image)  # default model is U-net(R231)\n",
    "    lungmask_ni = nib.Nifti1Image(lungmask, img.affine,img.header)\n",
    "    nib.save(lungmask_ni,lung_path)\n",
    "\n",
    "\n"
   ]
  },
  {
   "cell_type": "code",
   "execution_count": null,
   "id": "3a22b837",
   "metadata": {},
   "outputs": [],
   "source": [
    "from monai.utils import first, set_determinism\n",
    "from monai.transforms import (\n",
    "    RandFlipd,\n",
    "    AsDiscreted,\n",
    "    EnsureChannelFirstd,\n",
    "    Compose,\n",
    "    CropForegroundd,\n",
    "    LoadImaged,\n",
    "    Orientationd,\n",
    "    RandCropByPosNegLabeld,\n",
    "    SaveImaged,\n",
    "    CenterSpatialCropd,\n",
    "    SpatialCropd,\n",
    "    ScaleIntensityRanged,\n",
    "    Spacingd,\n",
    "    AsDiscrete,\n",
    "    RandSpatialCropSamplesd,\n",
    "    SpatialCrop,\n",
    "    RandSpatialCropd,\n",
    "    SpatialPadd,\n",
    "    EnsureTyped,\n",
    "    EnsureType,\n",
    "    RandCropByLabelClassesd,\n",
    "    Invertd,\n",
    "    DivisiblePadd,\n",
    "    MapTransform,\n",
    "    RandWeightedCropd,\n",
    "    ToTensord,\n",
    ")\n",
    "from monai.handlers.utils import from_engine\n",
    "from monai.networks.nets import UNet,VNet,SwinUNETR,UNETR,DynUNet\n",
    "from monai.networks.layers import Norm\n",
    "from monai.metrics import DiceMetric\n",
    "from monai.losses import DiceLoss\n",
    "from monai.inferers import sliding_window_inference\n",
    "from monai.data import CacheDataset, DataLoader, Dataset, decollate_batch,pad_list_data_collate\n",
    "from monai.config import print_config\n",
    "from monai.apps import download_and_extract"
   ]
  }
 ],
 "metadata": {
  "kernelspec": {
   "display_name": "LuisUMCG",
   "language": "python",
   "name": "luisumcg"
  },
  "language_info": {
   "codemirror_mode": {
    "name": "ipython",
    "version": 3
   },
   "file_extension": ".py",
   "mimetype": "text/x-python",
   "name": "python",
   "nbconvert_exporter": "python",
   "pygments_lexer": "ipython3",
   "version": "3.7.0"
  }
 },
 "nbformat": 4,
 "nbformat_minor": 5
}
