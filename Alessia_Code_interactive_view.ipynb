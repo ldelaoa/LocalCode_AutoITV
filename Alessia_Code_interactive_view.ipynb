{
 "cells": [
  {
   "cell_type": "code",
   "execution_count": 3,
   "id": "cfd7f9bf",
   "metadata": {},
   "outputs": [
    {
     "ename": "SyntaxError",
     "evalue": "invalid syntax (3374645178.py, line 1)",
     "output_type": "error",
     "traceback": [
      "\u001b[0;36m  Cell \u001b[0;32mIn [3], line 1\u001b[0;36m\u001b[0m\n\u001b[0;31m    pip install pygubu\u001b[0m\n\u001b[0m        ^\u001b[0m\n\u001b[0;31mSyntaxError\u001b[0m\u001b[0;31m:\u001b[0m invalid syntax\n"
     ]
    }
   ],
   "source": [
    "pip install pygubu\n",
    "pip install opencv-python \n",
    "pip install tk"
   ]
  },
  {
   "cell_type": "code",
   "execution_count": 9,
   "id": "53629f8d",
   "metadata": {},
   "outputs": [
    {
     "name": "stdout",
     "output_type": "stream",
     "text": [
      "Requirement already satisfied: pygubu in /home/umcg/Desktop/AutomaticITV_code/Aitv_envV0/lib/python3.10/site-packages (0.29)\n",
      "Note: you may need to restart the kernel to use updated packages.\n"
     ]
    }
   ],
   "source": [
    "pip install pygubu"
   ]
  },
  {
   "cell_type": "code",
   "execution_count": 5,
   "id": "c5c44da1",
   "metadata": {},
   "outputs": [
    {
     "ename": "ModuleNotFoundError",
     "evalue": "No module named 'ttk'",
     "output_type": "error",
     "traceback": [
      "\u001b[0;31m---------------------------------------------------------------------------\u001b[0m",
      "\u001b[0;31mModuleNotFoundError\u001b[0m                       Traceback (most recent call last)",
      "Cell \u001b[0;32mIn [5], line 3\u001b[0m\n\u001b[1;32m      1\u001b[0m \u001b[38;5;66;03m#import tkinter as tk\u001b[39;00m\n\u001b[1;32m      2\u001b[0m \u001b[38;5;28;01mimport\u001b[39;00m \u001b[38;5;21;01mtk\u001b[39;00m\n\u001b[0;32m----> 3\u001b[0m \u001b[38;5;28;01mimport\u001b[39;00m \u001b[38;5;21;01mttk\u001b[39;00m\n\u001b[1;32m      4\u001b[0m \u001b[38;5;66;03m#from tkinter import ttk\u001b[39;00m\n\u001b[1;32m      5\u001b[0m \u001b[38;5;28;01mimport\u001b[39;00m \u001b[38;5;21;01mSimpleITK\u001b[39;00m \u001b[38;5;28;01mas\u001b[39;00m \u001b[38;5;21;01msitk\u001b[39;00m\n",
      "\u001b[0;31mModuleNotFoundError\u001b[0m: No module named 'ttk'"
     ]
    }
   ],
   "source": [
    "#import tkinter as tk\n",
    "import tk\n",
    "import ttk\n",
    "#from tkinter import ttk\n",
    "import SimpleITK as sitk\n",
    "from PIL import Image, ImageTk\n",
    "from pygubu import Builder\n",
    "import cv2\n",
    "import numpy as np\n",
    "\n",
    "class SegmentationViewer:\n",
    "    def __init__(self, images, segmentations, orientation):\n",
    "        \n",
    "        self.segmentations = segmentations\n",
    "        \n",
    "        self.ct = images['ct']\n",
    "        self.pet = images['pet']\n",
    "        \n",
    "        self.current_segmentation = 0\n",
    "        self.current_slice = 0\n",
    "        \n",
    "        self.orientation = orientation\n",
    "        \n",
    "        self.root = tk.Tk()\n",
    "        self.root.title(\"Segmentation Viewer\")\n",
    "        \n",
    "        self.image_label = tk.Label(self.root, width=600, height=600)\n",
    "        self.image_label.pack()\n",
    "        \n",
    "        tk.Button(self.root, text=\"Previous\", command=self.previous_segmentation).pack()\n",
    "        tk.Button(self.root, text=\"Next\", command=self.next_segmentation).pack()\n",
    "        \n",
    "        self.item_var = tk.StringVar(self.root)\n",
    "        self.item_var.set(list(self.segmentations.keys())[0])\n",
    "        self.item_dropdown = ttk.Combobox(self.root, textvariable=self.item_var, values=list(self.segmentations.keys()))\n",
    "        self.item_dropdown.pack()\n",
    "        self.item_dropdown.bind('<<ComboboxSelected>>', self.show_segmentation)\n",
    "        \n",
    "        self.slice_var = tk.IntVar(self.root)\n",
    "        self.slice_var.set(0)\n",
    "        self.slice_slider = tk.Scale(self.root, from_=0, to=143, orient='horizontal', variable=self.slice_var, command=self.show_slice)\n",
    "        self.slice_slider.pack()\n",
    "        \n",
    "        self.show_segmentation()\n",
    "        self.root.mainloop()\n",
    "        \n",
    "    def previous_segmentation(self):\n",
    "        self.current_segmentation = (self.current_segmentation - 1) % len(self.segmentations[self.item_var.get()])\n",
    "        self.show_segmentation()\n",
    "        \n",
    "    def next_segmentation(self):\n",
    "        self.current_segmentation = (self.current_segmentation + 1) % len(self.segmentations[self.item_var.get()])\n",
    "        self.show_segmentation()\n",
    "        \n",
    "    def show_slice(self, value):\n",
    "        self.current_slice = int(value)\n",
    "        self.show_segmentation()\n",
    "    \n",
    "    def show_segmentation(self, event=None):\n",
    "        \n",
    "        if self.orientation == 'x':\n",
    "            ct_image = self.ct[self.current_slice,:,:]\n",
    "            segmentation = self.segmentations[self.item_var.get()][self.current_slice,:,:]\n",
    "        elif self.orientation == 'y':\n",
    "            ct_image = self.ct[:,self.current_slice,:]\n",
    "            segmentation = self.segmentations[self.item_var.get()][:,self.current_slice,:]\n",
    "        elif self.orientation == 'z':\n",
    "            ct_image = self.ct[:,:,self.current_slice]\n",
    "            segmentation = self.segmentations[self.item_var.get()][:,:,self.current_slice]\n",
    "        \n",
    "        #ct_image = cv2.cvtColor(ct_image, cv2.COLOR_BGR2GRAY)\n",
    "        \n",
    "        overlayed_image = cv2.addWeighted(ct_image, 0.5, segmentation, 0.5, 0)\n",
    "        overlayed_image = Image.fromarray(overlayed_image)\n",
    "        overlayed_image = overlayed_image.resize((500,500), Image.ANTIALIAS)\n",
    "        overlayed_image = ImageTk.PhotoImage(overlayed_image)\n",
    "        self.image_label.config(image=overlayed_image)\n",
    "        self.image_label.image = overlayed_image\n",
    "        \n",
    "        #image = Image.fromarray(segmentation)\n",
    "        #image = ImageTk.PhotoImage(image)\n",
    "        #self.image_label.config(image=image)\n",
    "        #self.image_label.image = image\n"
   ]
  },
  {
   "cell_type": "code",
   "execution_count": null,
   "id": "e41ddf3d",
   "metadata": {},
   "outputs": [],
   "source": [
    "path_output = r'\\\\zkh\\appdata\\RTDicom\\HANARTHproject\\Baoqiang\\UMCG_outpredL_resampled'\n",
    "\n",
    "patient_ID = 'UMCG-1117043'\n",
    "\n",
    "CT_image = sitk.ReadImage(path_output+'/'+patient_ID+\"_ct.nii.gz\")\n",
    "vol_ct = sitk.GetArrayFromImage(CT_image)\n",
    "vol_ct = vol_ct.clip(-200,200)\n",
    "\n",
    "PET_image = sitk.ReadImage(path_output+'/'+patient_ID+\"_pt.nii.gz\")\n",
    "vol_pet = sitk.GetArrayFromImage(PET_image)\n",
    "\n",
    "PT_image = sitk.ReadImage(path_output+'/'+patient_ID+\"_ct_GTVpt.nii.gz\")\n",
    "vol_pt = sitk.GetArrayFromImage(PT_image)\n",
    "vol_pt = np.ma.masked_where(vol_pt==False,vol_pt)\n",
    "\n",
    "LN_image = sitk.ReadImage(path_output+'/'+patient_ID+\"_ct_GTVln.nii.gz\")\n",
    "vol_ln = sitk.GetArrayFromImage(LN_image)\n",
    "vol_ln = np.ma.masked_where(vol_ln==False,vol_ln)\n",
    "\n",
    "images = {'ct': vol_ct, 'pet': vol_pet}\n",
    "segmentations = {'primary tumor': vol_pt, 'lymph node': vol_ln}"
   ]
  },
  {
   "cell_type": "code",
   "execution_count": null,
   "id": "de71d206",
   "metadata": {},
   "outputs": [],
   "source": [
    "viewer = SegmentationViewer(images, segmentations,'x')"
   ]
  },
  {
   "cell_type": "code",
   "execution_count": null,
   "id": "98eb56bd",
   "metadata": {},
   "outputs": [],
   "source": []
  }
 ],
 "metadata": {
  "kernelspec": {
   "display_name": "Python 3 (ipykernel)",
   "language": "python",
   "name": "python3"
  },
  "language_info": {
   "codemirror_mode": {
    "name": "ipython",
    "version": 3
   },
   "file_extension": ".py",
   "mimetype": "text/x-python",
   "name": "python",
   "nbconvert_exporter": "python",
   "pygments_lexer": "ipython3",
   "version": "3.10.6"
  }
 },
 "nbformat": 4,
 "nbformat_minor": 5
}
